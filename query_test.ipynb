{
 "cells": [
  {
   "cell_type": "code",
   "execution_count": null,
   "metadata": {},
   "outputs": [],
   "source": [
    "import qdrant_client\n",
    "from sentence_transformers import SentenceTransformer\n",
    "import os"
   ]
  },
  {
   "cell_type": "code",
   "execution_count": null,
   "metadata": {},
   "outputs": [],
   "source": [
    "# Set your Qdrant host and API key\n",
    "os.environ['QDRANT_HOST'] = \"https://53e6b1a3-cb8a-4e8c-b890-e4d632d693ec.eu-central-1-0.aws.cloud.qdrant.io:6333\"\n",
    "os.environ['QDRANT_API_KEY'] = \"vMjulZ9X_ODd41-z2LoeIB62MXdXx55hHqaZRLOItC4GyIVdVTqSBg\"\n",
    "\n",
    "# Create Qdrant client\n",
    "client = qdrant_client.QdrantClient(\n",
    "    os.getenv(\"QDRANT_HOST\"),\n",
    "    api_key=os.getenv(\"QDRANT_API_KEY\")\n",
    ")"
   ]
  },
  {
   "cell_type": "code",
   "execution_count": null,
   "metadata": {},
   "outputs": [],
   "source": [
    "collection_name = \"laws\""
   ]
  },
  {
   "cell_type": "code",
   "execution_count": null,
   "metadata": {},
   "outputs": [],
   "source": [
    "model = SentenceTransformer('thenlper/gte-base')"
   ]
  },
  {
   "cell_type": "code",
   "execution_count": null,
   "metadata": {},
   "outputs": [],
   "source": [
    "# Choose a sample query in French\n",
    "query = \"De combien de membres se composera l'assemblée législative du Québec ?\"\n",
    "\n",
    "# Define a function to perform a search and print the results\n",
    "def perform_search_and_print_results(collection_name, query, limit=3):\n",
    "    search_results = client.search(\n",
    "        collection_name=collection_name,\n",
    "        query_vector=model.encode(query).tolist(),\n",
    "        limit=limit\n",
    "    )\n",
    "    print(f\"Search results for collection: {collection_name}\")\n",
    "    for result in search_results:\n",
    "        print(\"Score:\", result.score)\n",
    "        print(\"Chunk ID:\", result.payload[\"chunk_id\"])\n",
    "        print(\"Content:\", result.payload[\"content\"])\n",
    "        print(\"Document ID:\", result.payload[\"document_id\"])\n",
    "        print()\n",
    "\n",
    "perform_search_and_print_results(collection_name, query)"
   ]
  }
 ],
 "metadata": {
  "language_info": {
   "name": "python"
  },
  "orig_nbformat": 4
 },
 "nbformat": 4,
 "nbformat_minor": 2
}
